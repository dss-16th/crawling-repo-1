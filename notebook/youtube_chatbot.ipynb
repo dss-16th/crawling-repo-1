{
 "cells": [
  {
   "cell_type": "code",
   "execution_count": 289,
   "id": "junior-affairs",
   "metadata": {},
   "outputs": [],
   "source": [
    "import pymongo\n",
    "import requests,json\n",
    "import pprint"
   ]
  },
  {
   "cell_type": "code",
   "execution_count": 436,
   "id": "central-marker",
   "metadata": {
    "scrolled": true
   },
   "outputs": [
    {
     "data": {
      "text/plain": [
       "\"[('title', 'YES or YES'), ('artist', 'TWICE(트와이스)'), ('viewCount', '2.21M'), ('current_Rank', 2), ('previous_Rank', 2), ('change', '-11.0%'), ('period_on_chart', '9 week'), ('date', '20181228-20190103'), ('image', '-'), ('play_url', '-'), '                                          ', ('title', 'What is Love?'), ('artist', 'TWICE(트와이스)'), ('viewCount', '0.53M'), ('current_Rank', 30), ('previous_Rank', 29), ('change', '-4.8%'), ('period_on_chart', '39 week'), ('date', '20181228-20190103'), ('image', '-'), ('play_url', '-'), '                                          ', ('title', 'Dance the Night Away'), ('artist', 'TWICE(트와이스)'), ('viewCount', '0.53M'), ('current_Rank', 31), ('previous_Rank', 21), ('change', '-12.9%'), ('period_on_chart', '25 week'), ('date', '20181228-20190103'), ('image', '-'), ('play_url', '-'), '                                          ', ('title', 'The Best Thing I Ever Did(올해 제일 잘한 일)'), ('artist', 'TWICE(트와이스)'), ('viewCount', '0.3M'), ('current_Rank', 54), ('previous_Rank', 36), ('change', '-39.1%'), ('period_on_chart', '4 week'), ('date', '20181228-20190103'), ('image', '-'), ('play_url', '-'), '                                          ']\""
      ]
     },
     "execution_count": 436,
     "metadata": {},
     "output_type": "execute_result"
    }
   ],
   "source": [
    "client = pymongo.MongoClient(\"\")\n",
    "db = client.youtube\n",
    "collection = db.data\n",
    "searches  = collection.find({'artist':{'$regex':'트와'},'date':{'$regex':'20190103'}})\n",
    "msg = []\n",
    "for search in searches:\n",
    "    search =list(search.items())[1:]\n",
    "    msg.append(search)\n",
    "    msg.append(\"\\n\")\n",
    "    \n",
    "msg = list(itertools.chain(*msg))\n",
    "msg = str(msg)\n",
    "msg = msg.replace('\\\\n','                                          ')\n",
    "msg"
   ]
  },
  {
   "cell_type": "code",
   "execution_count": 434,
   "id": "handed-therapy",
   "metadata": {},
   "outputs": [],
   "source": [
    "def send_msg(slack_webhook, msg, channel=\"#ds\", username=\"차트알림봇\"):\n",
    "    payload = {\"channel\": channel, \"username\": username, \"text\": msg}\n",
    "    requests.post(slack_webhook, json.dumps(payload))"
   ]
  },
  {
   "cell_type": "code",
   "execution_count": 435,
   "id": "junior-threshold",
   "metadata": {},
   "outputs": [],
   "source": [
    "slack_webhook = \"\"\n",
    "send_msg(slack_webhook, msg)"
   ]
  }
 ],
 "metadata": {
  "kernelspec": {
   "display_name": "Python 3",
   "language": "python",
   "name": "python3"
  },
  "language_info": {
   "codemirror_mode": {
    "name": "ipython",
    "version": 3
   },
   "file_extension": ".py",
   "mimetype": "text/x-python",
   "name": "python",
   "nbconvert_exporter": "python",
   "pygments_lexer": "ipython3",
   "version": "3.8.5"
  }
 },
 "nbformat": 4,
 "nbformat_minor": 5
}
